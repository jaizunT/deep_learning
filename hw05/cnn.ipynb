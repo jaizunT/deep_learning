{
  "cells": [
    {
      "cell_type": "markdown",
      "metadata": {
        "id": "view-in-github",
        "colab_type": "text"
      },
      "source": [
        "<a href=\"https://colab.research.google.com/github/jaizunT/deep_learning/blob/main/hw05/cnn.ipynb\" target=\"_parent\"><img src=\"https://colab.research.google.com/assets/colab-badge.svg\" alt=\"Open In Colab\"/></a>"
      ]
    },
    {
      "cell_type": "markdown",
      "metadata": {
        "id": "nAfxK3kBXQo7"
      },
      "source": [
        "# Setup Environment\n",
        "\n",
        "If you are working on this assignment using Google Colab, please execute the codes below.\n",
        "\n",
        "Alternatively, you can also do this assignment using a local anaconda environment (or a Python virtualenv). Please clone the GitHub repo by running `git clone https://github.com/Berkeley-CS182/cs182hw5.git`."
      ]
    },
    {
      "cell_type": "code",
      "execution_count": 1,
      "metadata": {
        "id": "9L9LkI2uXQpC",
        "colab": {
          "base_uri": "https://localhost:8080/"
        },
        "outputId": "95a5f1da-fc63-4bff-f5fb-b4e246d67365"
      },
      "outputs": [
        {
          "output_type": "stream",
          "name": "stdout",
          "text": [
            "Mounted at /content/gdrive\n"
          ]
        }
      ],
      "source": [
        "#@title Mount your Google Drive\n",
        "\n",
        "import os\n",
        "from google.colab import drive\n",
        "drive.mount('/content/gdrive')"
      ]
    },
    {
      "cell_type": "code",
      "execution_count": 2,
      "metadata": {
        "id": "Vyji7e8pXQpF",
        "colab": {
          "base_uri": "https://localhost:8080/"
        },
        "outputId": "4fb7da46-0cb1-419a-99d0-1e699aed265b"
      },
      "outputs": [
        {
          "output_type": "stream",
          "name": "stderr",
          "text": [
            "<>:3: SyntaxWarning: invalid escape sequence '\\ '\n",
            "<>:3: SyntaxWarning: invalid escape sequence '\\ '\n",
            "/tmp/ipython-input-836890834.py:3: SyntaxWarning: invalid escape sequence '\\ '\n",
            "  DRIVE_PATH = '/content/gdrive/My\\ Drive/cs182hw5_fa25'\n"
          ]
        }
      ],
      "source": [
        "#@title Set up mount symlink\n",
        "\n",
        "DRIVE_PATH = '/content/gdrive/My\\ Drive/cs182hw5_fa25'\n",
        "DRIVE_PYTHON_PATH = DRIVE_PATH.replace('\\\\', '')\n",
        "if not os.path.exists(DRIVE_PYTHON_PATH):\n",
        "  %mkdir $DRIVE_PATH\n",
        "\n",
        "## the space in `My Drive` causes some issues,\n",
        "## make a symlink to avoid this\n",
        "SYM_PATH = '/content/cs182hw5'\n",
        "if not os.path.exists(SYM_PATH):\n",
        "  !ln -s $DRIVE_PATH $SYM_PATH"
      ]
    },
    {
      "cell_type": "code",
      "execution_count": 3,
      "metadata": {
        "id": "XWU7qiCaXQpF",
        "colab": {
          "base_uri": "https://localhost:8080/"
        },
        "outputId": "dbf878f4-775a-409e-9231-4256998312c2"
      },
      "outputs": [
        {
          "output_type": "stream",
          "name": "stdout",
          "text": [
            "Requirement already satisfied: numpy in /usr/local/lib/python3.12/dist-packages (2.0.2)\n",
            "Requirement already satisfied: imageio in /usr/local/lib/python3.12/dist-packages (2.37.0)\n",
            "Requirement already satisfied: matplotlib in /usr/local/lib/python3.12/dist-packages (3.10.0)\n",
            "Requirement already satisfied: pillow>=8.3.2 in /usr/local/lib/python3.12/dist-packages (from imageio) (11.3.0)\n",
            "Requirement already satisfied: contourpy>=1.0.1 in /usr/local/lib/python3.12/dist-packages (from matplotlib) (1.3.3)\n",
            "Requirement already satisfied: cycler>=0.10 in /usr/local/lib/python3.12/dist-packages (from matplotlib) (0.12.1)\n",
            "Requirement already satisfied: fonttools>=4.22.0 in /usr/local/lib/python3.12/dist-packages (from matplotlib) (4.60.1)\n",
            "Requirement already satisfied: kiwisolver>=1.3.1 in /usr/local/lib/python3.12/dist-packages (from matplotlib) (1.4.9)\n",
            "Requirement already satisfied: packaging>=20.0 in /usr/local/lib/python3.12/dist-packages (from matplotlib) (25.0)\n",
            "Requirement already satisfied: pyparsing>=2.3.1 in /usr/local/lib/python3.12/dist-packages (from matplotlib) (3.2.5)\n",
            "Requirement already satisfied: python-dateutil>=2.7 in /usr/local/lib/python3.12/dist-packages (from matplotlib) (2.9.0.post0)\n",
            "Requirement already satisfied: six>=1.5 in /usr/local/lib/python3.12/dist-packages (from python-dateutil>=2.7->matplotlib) (1.17.0)\n"
          ]
        }
      ],
      "source": [
        "#@title Install dependencies\n",
        "\n",
        "!pip install numpy imageio matplotlib"
      ]
    },
    {
      "cell_type": "code",
      "execution_count": 4,
      "metadata": {
        "id": "uxnwlV80XQpG",
        "colab": {
          "base_uri": "https://localhost:8080/"
        },
        "outputId": "5ebcd10b-99b1-4249-d2bd-059b3c487e1a"
      },
      "outputs": [
        {
          "output_type": "stream",
          "name": "stdout",
          "text": [
            "/content/gdrive/My Drive/cs182hw5_fa25\n",
            "/content/gdrive/My Drive/cs182hw5_fa25/cs182hw5\n"
          ]
        }
      ],
      "source": [
        "#@title Clone homework repo\n",
        "\n",
        "%cd $SYM_PATH\n",
        "if not os.path.exists(\"cs182hw5\"):\n",
        "  !git clone https://github.com/Berkeley-CS182/cs182hw5.git\n",
        "%cd cs182hw5"
      ]
    },
    {
      "cell_type": "code",
      "execution_count": 5,
      "metadata": {
        "id": "x0SBFQhwXQpH",
        "colab": {
          "base_uri": "https://localhost:8080/"
        },
        "outputId": "2b00a07f-7d4d-4382-d531-33aa07cf4e20"
      },
      "outputs": [
        {
          "output_type": "stream",
          "name": "stdout",
          "text": [
            "/content/gdrive/My Drive/cs182hw5_fa25/cs182hw5/deeplearning/datasets\n",
            "--2025-10-18 08:04:13--  http://www.cs.toronto.edu/~kriz/cifar-10-python.tar.gz\n",
            "Resolving www.cs.toronto.edu (www.cs.toronto.edu)... 128.100.3.30\n",
            "Connecting to www.cs.toronto.edu (www.cs.toronto.edu)|128.100.3.30|:80... connected.\n",
            "HTTP request sent, awaiting response... 200 OK\n",
            "Length: 170498071 (163M) [application/x-gzip]\n",
            "Saving to: ‘cifar-10-python.tar.gz’\n",
            "\n",
            "cifar-10-python.tar 100%[===================>] 162.60M  45.2MB/s    in 3.6s    \n",
            "\n",
            "2025-10-18 08:04:16 (45.1 MB/s) - ‘cifar-10-python.tar.gz’ saved [170498071/170498071]\n",
            "\n",
            "cifar-10-batches-py/\n",
            "cifar-10-batches-py/data_batch_4\n",
            "cifar-10-batches-py/readme.html\n",
            "cifar-10-batches-py/test_batch\n",
            "cifar-10-batches-py/data_batch_3\n",
            "cifar-10-batches-py/batches.meta\n",
            "cifar-10-batches-py/data_batch_2\n",
            "cifar-10-batches-py/data_batch_5\n",
            "cifar-10-batches-py/data_batch_1\n",
            "/content/gdrive/My Drive/cs182hw5_fa25/cs182hw5\n"
          ]
        }
      ],
      "source": [
        "#@title Download datasets (Skip if you did it in the last part)\n",
        "\n",
        "%cd deeplearning/datasets/\n",
        "!bash ./get_datasets.sh\n",
        "%cd ../.."
      ]
    },
    {
      "cell_type": "code",
      "execution_count": 6,
      "metadata": {
        "id": "lbGdDcqpXQpH",
        "colab": {
          "base_uri": "https://localhost:8080/"
        },
        "outputId": "f6bfa0ac-6dea-4cd1-c85e-229282509663"
      },
      "outputs": [
        {
          "output_type": "stream",
          "name": "stdout",
          "text": [
            "Requirement already satisfied: IPython in /usr/local/lib/python3.12/dist-packages (7.34.0)\n",
            "Collecting IPython\n",
            "  Downloading ipython-9.6.0-py3-none-any.whl.metadata (4.4 kB)\n",
            "Downloading ipython-9.6.0-py3-none-any.whl (616 kB)\n",
            "\u001b[2K   \u001b[90m━━━━━━━━━━━━━━━━━━━━━━━━━━━━━━━━━━━━━━━━\u001b[0m \u001b[32m616.2/616.2 kB\u001b[0m \u001b[31m26.2 MB/s\u001b[0m eta \u001b[36m0:00:00\u001b[0m\n",
            "\u001b[?25hInstalling collected packages: IPython\n",
            "  Attempting uninstall: IPython\n",
            "    Found existing installation: ipython 7.34.0\n",
            "    Uninstalling ipython-7.34.0:\n",
            "      Successfully uninstalled ipython-7.34.0\n",
            "Successfully installed IPython-9.6.0\n"
          ]
        }
      ],
      "source": [
        "#@title Configure Jupyter Notebook\n",
        "!pip install --no-deps --upgrade IPython\n",
        "\n",
        "import matplotlib\n",
        "%matplotlib inline\n",
        "%load_ext autoreload\n",
        "%autoreload 2"
      ]
    },
    {
      "cell_type": "markdown",
      "metadata": {
        "id": "b6wlLxgdXQpJ"
      },
      "source": [
        "# Convolutional Networks\n",
        "So far we have worked with deep fully-connected networks, using them to explore different optimization strategies and network architectures. Fully-connected networks are a good testbed for experimentation because they are very computationally efficient, but in practice all state-of-the-art results use convolutional networks instead.\n",
        "\n",
        "First you will implement several layer types that are used in convolutional networks. You will then use these layers to train a convolutional network on the CIFAR-10 dataset."
      ]
    },
    {
      "cell_type": "code",
      "execution_count": 7,
      "metadata": {
        "id": "vgX1ElG9XQpK"
      },
      "outputs": [],
      "source": [
        "# As usual, a bit of setup\n",
        "\n",
        "import os\n",
        "import time\n",
        "import numpy as np\n",
        "import matplotlib.pyplot as plt\n",
        "from deeplearning.classifiers.fc_net import *\n",
        "from deeplearning.data_utils import get_CIFAR10_data\n",
        "from deeplearning.gradient_check import eval_numerical_gradient, eval_numerical_gradient_array\n",
        "from deeplearning.solver import Solver\n",
        "import random\n",
        "import torch\n",
        "seed = 7\n",
        "torch.manual_seed(seed)\n",
        "random.seed(seed)\n",
        "np.random.seed(seed)\n",
        "\n",
        "plt.rcParams['figure.figsize'] = (10.0, 8.0) # set default size of plots\n",
        "plt.rcParams['image.interpolation'] = 'nearest'\n",
        "plt.rcParams['image.cmap'] = 'gray'\n",
        "\n",
        "os.makedirs(\"submission_logs\", exist_ok=True)\n",
        "\n",
        "def abs_error(x, y):\n",
        "    return np.max(np.abs(x - y))\n",
        "\n",
        "def rel_error(x, y):\n",
        "    \"\"\" returns relative error \"\"\"\n",
        "    return np.max(np.abs(x - y) / (np.maximum(1e-8, np.abs(x) + np.abs(y))))"
      ]
    },
    {
      "cell_type": "code",
      "execution_count": 8,
      "metadata": {
        "id": "pgZtFrUmXQpK",
        "colab": {
          "base_uri": "https://localhost:8080/"
        },
        "outputId": "10df393d-3789-478d-b27d-ccca296ce084"
      },
      "outputs": [
        {
          "output_type": "stream",
          "name": "stdout",
          "text": [
            "deeplearning/datasets/cifar-10-batches-py/data_batch_1\n",
            "deeplearning/datasets/cifar-10-batches-py/data_batch_2\n",
            "deeplearning/datasets/cifar-10-batches-py/data_batch_3\n",
            "deeplearning/datasets/cifar-10-batches-py/data_batch_4\n",
            "deeplearning/datasets/cifar-10-batches-py/data_batch_5\n",
            "deeplearning/datasets/cifar-10-batches-py/test_batch\n",
            "X_train:  (49000, 3, 32, 32)\n",
            "y_train:  (49000,)\n",
            "X_val:  (1000, 3, 32, 32)\n",
            "y_val:  (1000,)\n",
            "X_test:  (1000, 3, 32, 32)\n",
            "y_test:  (1000,)\n"
          ]
        }
      ],
      "source": [
        "# Load the (preprocessed) CIFAR10 data.\n",
        "\n",
        "data = get_CIFAR10_data()\n",
        "for k, v in data.items():\n",
        "    print ('%s: ' % k, v.shape)"
      ]
    },
    {
      "cell_type": "markdown",
      "metadata": {
        "id": "F0r8XXMKXQpL"
      },
      "source": [
        "## Convolution: Naive forward pass\n",
        "The core of a convolutional network is the convolution operation. In the file `deeplearning/layers.py`, implement the forward pass for the convolution layer in the function `conv_forward_naive`.\n",
        "\n",
        "You don't have to worry too much about efficiency at this point; just write the code in whatever way you find most clear.\n",
        "\n",
        "You can test your implementation by running the following:"
      ]
    },
    {
      "cell_type": "code",
      "execution_count": 15,
      "metadata": {
        "id": "eCImGbsQXQpL",
        "colab": {
          "base_uri": "https://localhost:8080/"
        },
        "outputId": "d4437be5-077a-43b3-8a63-ddfafa0291d1"
      },
      "outputs": [
        {
          "output_type": "stream",
          "name": "stdout",
          "text": [
            "Testing conv_forward_naive\n",
            "difference:  2.2121476417505994e-08\n"
          ]
        }
      ],
      "source": [
        "x_shape = (2, 3, 4, 4)\n",
        "w_shape = (3, 3, 4, 4)\n",
        "x = np.linspace(-0.1, 0.5, num=np.prod(x_shape)).reshape(x_shape)\n",
        "w = np.linspace(-0.2, 0.3, num=np.prod(w_shape)).reshape(w_shape)\n",
        "b = np.linspace(-0.1, 0.2, num=3)\n",
        "\n",
        "conv_param = {'stride': 2, 'pad': 1}\n",
        "out, _ = conv_forward_naive(x, w, b, conv_param)\n",
        "correct_out = np.array([[[[[-0.08759809, -0.10987781],\n",
        "                           [-0.18387192, -0.2109216 ]],\n",
        "                          [[ 0.21027089,  0.21661097],\n",
        "                           [ 0.22847626,  0.23004637]],\n",
        "                          [[ 0.50813986,  0.54309974],\n",
        "                           [ 0.64082444,  0.67101435]]],\n",
        "                         [[[-0.98053589, -1.03143541],\n",
        "                           [-1.19128892, -1.24695841]],\n",
        "                          [[ 0.69108355,  0.66880383],\n",
        "                           [ 0.59480972,  0.56776003]],\n",
        "                          [[ 2.36270298,  2.36904306],\n",
        "                           [ 2.38090835,  2.38247847]]]]])\n",
        "\n",
        "# Compare your output to ours; difference should be around 1e-8\n",
        "print ('Testing conv_forward_naive')\n",
        "print ('difference: ', rel_error(out, correct_out))"
      ]
    },
    {
      "cell_type": "markdown",
      "metadata": {
        "id": "ywoZYcsGXQpM"
      },
      "source": [
        "## Convolution: naive backpropagation\n",
        "\n",
        "In `deeplearning/layers.py`, implement the backpropagation for the convolution layer in the function `conv_backward_naive`.\n",
        "\n",
        "The gradient check below will take 30s~1min depending on the efficiency of your code."
      ]
    },
    {
      "cell_type": "code",
      "execution_count": 17,
      "metadata": {
        "id": "0iPm7fQ9XQpM",
        "colab": {
          "base_uri": "https://localhost:8080/"
        },
        "outputId": "a271b21f-9c50-4a7f-e480-8f0e82a5c9c1"
      },
      "outputs": [
        {
          "output_type": "stream",
          "name": "stdout",
          "text": [
            "dx relative error:  4.181005676867326e-09\n",
            "dw relative error:  2.057485216625411e-08\n",
            "db relative error:  1.2713190007310539e-10\n"
          ]
        }
      ],
      "source": [
        "x = np.random.randn(10, 3, 5, 5)\n",
        "w = np.random.randn(16, 3, 3, 3)\n",
        "b = np.random.randn(16,)\n",
        "conv_param = {'stride': 2, 'pad': 1}\n",
        "dout = np.random.randn(10, 16, 3, 3)\n",
        "out, cache = conv_forward_naive(x, w, b, conv_param)\n",
        "dx, dw, db = conv_backward_naive(dout, cache)\n",
        "dx_num = eval_numerical_gradient_array(lambda xx: conv_forward_naive(xx, w, b, conv_param)[0], x, dout)\n",
        "dw_num = eval_numerical_gradient_array(lambda ww: conv_forward_naive(x, ww, b, conv_param)[0], w, dout)\n",
        "db_num = eval_numerical_gradient_array(lambda bb: conv_forward_naive(x, w, bb, conv_param)[0], b, dout)\n",
        "\n",
        "print ('dx relative error: ', rel_error(dx, dx_num))\n",
        "print ('dw relative error: ', rel_error(dw, dw_num))\n",
        "print ('db relative error: ', rel_error(db, db_num))"
      ]
    },
    {
      "cell_type": "markdown",
      "metadata": {
        "id": "x10h-F1cXQpN"
      },
      "source": [
        "## Max pooling: Naive forward\n",
        "Implement the forward pass for the max-pooling operation in the function `max_pool_forward_naive` in the file `deeplearning/layers.py`. Again, don't worry too much about computational efficiency.\n",
        "\n",
        "Check your implementation by running the following:"
      ]
    },
    {
      "cell_type": "code",
      "execution_count": 19,
      "metadata": {
        "id": "3WxQGmYXXQpN",
        "colab": {
          "base_uri": "https://localhost:8080/"
        },
        "outputId": "991c4fa1-befd-4090-d537-0e607497bfcf"
      },
      "outputs": [
        {
          "output_type": "stream",
          "name": "stdout",
          "text": [
            "Testing max_pool_forward_naive function:\n",
            "difference:  4.1666665157267834e-08\n"
          ]
        }
      ],
      "source": [
        "x_shape = (2, 3, 4, 4)\n",
        "x = np.linspace(-0.3, 0.4, num=np.prod(x_shape)).reshape(x_shape)\n",
        "pool_param = {'pool_height': 2, 'pool_width': 2, 'stride': 2}\n",
        "\n",
        "out, _ = max_pool_forward_naive(x, pool_param)\n",
        "\n",
        "correct_out = np.array([[[[-0.26315789, -0.24842105],\n",
        "                          [-0.20421053, -0.18947368]],\n",
        "                         [[-0.14526316, -0.13052632],\n",
        "                          [-0.08631579, -0.07157895]],\n",
        "                         [[-0.02736842, -0.01263158],\n",
        "                          [ 0.03157895,  0.04631579]]],\n",
        "                        [[[ 0.09052632,  0.10526316],\n",
        "                          [ 0.14947368,  0.16421053]],\n",
        "                         [[ 0.20842105,  0.22315789],\n",
        "                          [ 0.26736842,  0.28210526]],\n",
        "                         [[ 0.32631579,  0.34105263],\n",
        "                          [ 0.38526316,  0.4       ]]]])\n",
        "\n",
        "# Compare your output with ours. Difference should be around 1e-8.\n",
        "print ('Testing max_pool_forward_naive function:')\n",
        "print ('difference: ', rel_error(out, correct_out))"
      ]
    },
    {
      "cell_type": "markdown",
      "metadata": {
        "id": "1ogbTyFnXQpN"
      },
      "source": [
        "## Max pooling: Naive backward\n",
        "In `deeplearning/layers.py`, implement the backpropagation for the max pooling layer in the function `max_pool_backward_naive`."
      ]
    },
    {
      "cell_type": "code",
      "execution_count": 20,
      "metadata": {
        "id": "cb3J8jSyXQpN",
        "colab": {
          "base_uri": "https://localhost:8080/"
        },
        "outputId": "b86207a7-a9a9-4735-c62a-7e6249696f1a"
      },
      "outputs": [
        {
          "output_type": "stream",
          "name": "stdout",
          "text": [
            "dx relative error:  3.2760527244443858e-12\n"
          ]
        }
      ],
      "source": [
        "x = np.random.randn(10, 3, 8, 7)\n",
        "pool_param = {'pool_height': 2, 'pool_width': 3, 'stride': 2}\n",
        "dout = np.random.randn(10, 3, 4, 3)\n",
        "out, cache = max_pool_forward_naive(x, pool_param)\n",
        "dx = max_pool_backward_naive(dout, cache)\n",
        "dx_num = eval_numerical_gradient_array(lambda xx: max_pool_forward_naive(xx, pool_param)[0], x, dout)\n",
        "\n",
        "print ('dx relative error: ', rel_error(dx, dx_num))"
      ]
    },
    {
      "cell_type": "markdown",
      "metadata": {
        "id": "t9-_dyawXQpN"
      },
      "source": [
        "## Convolutional \"sandwich\" layers\n",
        "Previously we introduced the concept of \"sandwich\" layers that combine multiple operations into commonly used patterns. In the file `deeplearning/layer_utils.py` you will find sandwich layers that implement a few commonly used patterns for convolutional networks.\n",
        "\n",
        "The gradient check below will take 45s~1min30s depending on the efficiency of your code."
      ]
    },
    {
      "cell_type": "code",
      "execution_count": 21,
      "metadata": {
        "id": "6oCmWpLLXQpO",
        "colab": {
          "base_uri": "https://localhost:8080/"
        },
        "outputId": "712a22d9-46c0-4d1e-a34c-2f58d9929885"
      },
      "outputs": [
        {
          "output_type": "stream",
          "name": "stdout",
          "text": [
            "Testing conv_relu_pool\n",
            "dx error:  1.2892312346156303e-08\n",
            "dw error:  1.491079655429428e-08\n",
            "db error:  3.735157695322709e-11\n"
          ]
        }
      ],
      "source": [
        "from deeplearning.layer_utils import conv_relu_pool_forward, conv_relu_pool_backward\n",
        "\n",
        "x = np.random.randn(2, 3, 16, 16)\n",
        "w = np.random.randn(3, 3, 3, 3)\n",
        "b = np.random.randn(3,)\n",
        "dout = np.random.randn(2, 3, 8, 8)\n",
        "conv_param = {'stride': 1, 'pad': 1}\n",
        "pool_param = {'pool_height': 2, 'pool_width': 2, 'stride': 2}\n",
        "\n",
        "out, cache = conv_relu_pool_forward(x, w, b, conv_param, pool_param)\n",
        "dx, dw, db = conv_relu_pool_backward(dout, cache)\n",
        "\n",
        "dx_num = eval_numerical_gradient_array(lambda x: conv_relu_pool_forward(x, w, b, conv_param, pool_param)[0], x, dout)\n",
        "dw_num = eval_numerical_gradient_array(lambda w: conv_relu_pool_forward(x, w, b, conv_param, pool_param)[0], w, dout)\n",
        "db_num = eval_numerical_gradient_array(lambda b: conv_relu_pool_forward(x, w, b, conv_param, pool_param)[0], b, dout)\n",
        "\n",
        "print ('Testing conv_relu_pool')\n",
        "print ('dx error: ', rel_error(dx_num, dx))\n",
        "print ('dw error: ', rel_error(dw_num, dw))\n",
        "print ('db error: ', rel_error(db_num, db))"
      ]
    },
    {
      "cell_type": "markdown",
      "metadata": {
        "id": "XHYKVVA3XQpO"
      },
      "source": [
        "## Three-layer ConvNet\n",
        "Now that you have implemented all the necessary layers, we can put them together into a simple convolutional network.\n",
        "\n",
        "Open the file `deeplearning/classifiers/cnn.py` and complete the implementation of the `ThreeLayerConvNet` class. Run the following cells to help you debug:"
      ]
    },
    {
      "cell_type": "markdown",
      "metadata": {
        "id": "dMek8jrZXQpO"
      },
      "source": [
        "### Sanity check loss\n",
        "After you build a new network, one of the first things you should do is sanity check the loss. When we use the softmax loss, we expect the loss for random weights (and no regularization) to be about `log(C)` for `C` classes. When we add regularization this should go up."
      ]
    },
    {
      "cell_type": "markdown",
      "metadata": {
        "id": "gdWM0V4hXQpO"
      },
      "source": [
        "### Gradient check\n",
        "After the loss looks reasonable, use numeric gradient checking to make sure that your backward pass is correct. When you use numeric gradient checking you should use a small amount of artifical data and a small number of neurons at each layer."
      ]
    },
    {
      "cell_type": "code",
      "execution_count": 31,
      "metadata": {
        "id": "JSlcLJKEXQpO",
        "colab": {
          "base_uri": "https://localhost:8080/"
        },
        "outputId": "e32c59f4-d0f3-464a-bb04-e194b648b53e"
      },
      "outputs": [
        {
          "output_type": "stream",
          "name": "stdout",
          "text": [
            "Initial loss (no regularization):  2.302585138003613\n",
            "Initial loss (with regularization):  2.3218146990940824\n"
          ]
        }
      ],
      "source": [
        "from deeplearning.classifiers.cnn import ThreeLayerConvNet\n",
        "\n",
        "np.random.seed(seed)\n",
        "model = ThreeLayerConvNet(num_filters=3, filter_size=1)\n",
        "\n",
        "N = 50\n",
        "X = np.random.randn(N, 3, 32, 32)\n",
        "y = np.random.randint(10, size=N)\n",
        "\n",
        "loss, grads = model.loss(X, y)\n",
        "print ('Initial loss (no regularization): ', loss)\n",
        "# expected: (approx.) 2.302585092994046\n",
        "\n",
        "model.reg = 0.5\n",
        "loss, grads = model.loss(X, y)\n",
        "print ('Initial loss (with regularization): ', loss)\n",
        "# expected: (approx.) 2.322037342994046"
      ]
    },
    {
      "cell_type": "markdown",
      "metadata": {
        "id": "cn9t8kbJXQpP"
      },
      "source": [
        "The following gradient check will take 1min30s to 3min to run. The max relative error of every parameter tensor should be less than `1e-2`."
      ]
    },
    {
      "cell_type": "code",
      "execution_count": 36,
      "metadata": {
        "id": "B7GBqvyJXQpP",
        "colab": {
          "base_uri": "https://localhost:8080/"
        },
        "outputId": "bdefb237-a47b-4744-ff32-577c320deff8"
      },
      "outputs": [
        {
          "output_type": "stream",
          "name": "stdout",
          "text": [
            "W1 max relative error: 2.894889e-05\n",
            "W2 max relative error: 1.827179e-03\n",
            "W3 max relative error: 1.941106e-03\n",
            "b1 max relative error: 9.828774e-07\n",
            "b2 max relative error: 4.721508e-08\n",
            "b3 max relative error: 1.270831e-09\n"
          ]
        }
      ],
      "source": [
        "num_inputs = 5\n",
        "input_dim = (3, 12, 12)\n",
        "reg = 0.0\n",
        "num_classes = 10\n",
        "np.random.seed(seed)\n",
        "X = np.random.randn(num_inputs, *input_dim)\n",
        "y = np.random.randint(num_classes, size=num_inputs)\n",
        "\n",
        "model = ThreeLayerConvNet(num_filters=3, filter_size=3,\n",
        "                          input_dim=input_dim, hidden_dim=7,\n",
        "                          weight_scale=0.01, reg=0.001, dtype=np.float64)\n",
        "loss, grads = model.loss(X, y)\n",
        "for param_name in sorted(grads):\n",
        "    f = lambda _: model.loss(X, y)[0]\n",
        "    param_grad_num = eval_numerical_gradient(f, model.params[param_name], verbose=False, h=1e-6)\n",
        "    e = rel_error(param_grad_num, grads[param_name])\n",
        "    print ('%s max relative error: %e' % (param_name, rel_error(param_grad_num, grads[param_name])))"
      ]
    },
    {
      "cell_type": "markdown",
      "metadata": {
        "id": "qOCajz4sXQpP"
      },
      "source": [
        "# Spatial Batch Normalization\n",
        "We already saw that batch normalization is a very useful technique for training deep fully-connected networks. Batch normalization can also be used for convolutional networks, but we need to tweak it a bit; the modification will be called \"spatial batch normalization.\"\n",
        "\n",
        "Normally batch-normalization accepts inputs of shape `(N, D)` and produces outputs of shape `(N, D)`, where we normalize across the minibatch dimension `N`. For data coming from convolutional layers, batch normalization needs to accept inputs of shape `(N, C, H, W)` and produce outputs of shape `(N, C, H, W)` where the `N` dimension gives the minibatch size and the `(H, W)` dimensions give the spatial size of the feature map.\n",
        "\n",
        "If the feature map was produced using convolutions, then we expect the statistics of each feature channel to be relatively consistent both between different imagesand different locations within the same image. Therefore spatial batch normalization computes a mean and variance for each of the `C` feature channels by computing statistics over both the minibatch dimension `N` and the spatial dimensions `H` and `W`."
      ]
    },
    {
      "cell_type": "markdown",
      "metadata": {
        "id": "es9hEynKXQpP"
      },
      "source": [
        "## Spatial batch normalization: forward\n",
        "\n",
        "In the file `deeplearning/layers.py`, implement the forward pass for spatial batch normalization in the function `spatial_batchnorm_forward`. Check your implementation by running the following:"
      ]
    },
    {
      "cell_type": "code",
      "execution_count": 37,
      "metadata": {
        "id": "I_0jlFF6XQpQ",
        "colab": {
          "base_uri": "https://localhost:8080/"
        },
        "outputId": "6e4543d8-059f-4be1-ec5f-62afdfe79d21"
      },
      "outputs": [
        {
          "output_type": "stream",
          "name": "stdout",
          "text": [
            "Before spatial batch normalization:\n",
            "  Shape:  (2, 3, 4, 5)\n",
            "  Means:  [10.45804384 10.31076584  8.93075534]\n",
            "  Stds:  [3.6806245  3.85854955 3.47338585]\n",
            "After spatial batch normalization:\n",
            "  Shape:  (2, 3, 4, 5)\n",
            "  Means:  [-3.13638004e-16 -4.94049246e-16 -3.16413562e-16]\n",
            "  Stds:  [0.99999963 0.99999966 0.99999959]\n",
            "After spatial batch normalization (nontrivial gamma, beta):\n",
            "  Shape:  (2, 3, 4, 5)\n",
            "  Means:  [6. 7. 8.]\n",
            "  Stds:  [2.99999889 3.99999866 4.99999793]\n"
          ]
        }
      ],
      "source": [
        "# Check the training-time forward pass by checking means and variances\n",
        "# of features both before and after spatial batch normalization\n",
        "N, C, H, W = 2, 3, 4, 5\n",
        "x = 4 * np.random.randn(N, C, H, W) + 10\n",
        "\n",
        "print ('Before spatial batch normalization:')\n",
        "print ('  Shape: ', x.shape)\n",
        "print ('  Means: ', x.mean(axis=(0, 2, 3)))\n",
        "print ('  Stds: ', x.std(axis=(0, 2, 3)))\n",
        "\n",
        "# Means should be close to zero and stds close to one. Shape should be unchanged.\n",
        "gamma, beta = np.ones(C), np.zeros(C)\n",
        "bn_param = {'mode': 'train'}\n",
        "out, _ = spatial_batchnorm_forward(x, gamma, beta, bn_param)\n",
        "print ('After spatial batch normalization:')\n",
        "print ('  Shape: ', out.shape)\n",
        "print ('  Means: ', out.mean(axis=(0, 2, 3)))\n",
        "print ('  Stds: ', out.std(axis=(0, 2, 3)))\n",
        "\n",
        "# Means should be close to beta and stds close to gamma. Shape should be unchnaged.\n",
        "gamma, beta = np.asarray([3, 4, 5]), np.asarray([6, 7, 8])\n",
        "out, _ = spatial_batchnorm_forward(x, gamma, beta, bn_param)\n",
        "print ('After spatial batch normalization (nontrivial gamma, beta):')\n",
        "print ('  Shape: ', out.shape)\n",
        "print ('  Means: ', out.mean(axis=(0, 2, 3)))\n",
        "print ('  Stds: ', out.std(axis=(0, 2, 3)))"
      ]
    },
    {
      "cell_type": "code",
      "execution_count": 38,
      "metadata": {
        "id": "_lb1XJjrXQpQ",
        "colab": {
          "base_uri": "https://localhost:8080/"
        },
        "outputId": "5668e392-d635-40a1-a93e-f94a37b02aae"
      },
      "outputs": [
        {
          "output_type": "stream",
          "name": "stdout",
          "text": [
            "After spatial batch normalization (test-time):\n",
            "  means:  [ 0.04195664  0.04227708 -0.06255247  0.04682065]\n",
            "  stds:  [0.9992673  0.99157656 1.00919525 1.01471129]\n"
          ]
        }
      ],
      "source": [
        "# Check the test-time forward pass by running the training-time\n",
        "# forward pass many times to warm up the running averages, and then\n",
        "# checking the means and variances of activations after a test-time\n",
        "# forward pass.\n",
        "\n",
        "N, C, H, W = 10, 4, 11, 12\n",
        "\n",
        "bn_param = {'mode': 'train'}\n",
        "gamma = np.ones(C)\n",
        "beta = np.zeros(C)\n",
        "for t in range(50):\n",
        "    x = 2.3 * np.random.randn(N, C, H, W) + 13\n",
        "    spatial_batchnorm_forward(x, gamma, beta, bn_param)\n",
        "bn_param['mode'] = 'test'\n",
        "x = 2.3 * np.random.randn(N, C, H, W) + 13\n",
        "a_norm, _ = spatial_batchnorm_forward(x, gamma, beta, bn_param)\n",
        "\n",
        "# Means should be close to zero and stds close to one, but will be\n",
        "# noisier than training-time forward passes.\n",
        "print ('After spatial batch normalization (test-time):')\n",
        "print ('  means: ', a_norm.mean(axis=(0, 2, 3)))\n",
        "print ('  stds: ', a_norm.std(axis=(0, 2, 3)))"
      ]
    },
    {
      "cell_type": "markdown",
      "metadata": {
        "id": "X3U5DGHXXQpQ"
      },
      "source": [
        "## Spatial batch normalization: backward\n",
        "In the file `deeplearning/layers.py`, implement the backward pass for spatial batch normalization in the function `spatial_batchnorm_backward`. Run the following to check your implementation using a numeric gradient check:"
      ]
    },
    {
      "cell_type": "code",
      "execution_count": 39,
      "metadata": {
        "id": "Izk0ogV5XQpQ",
        "colab": {
          "base_uri": "https://localhost:8080/"
        },
        "outputId": "fe8df5ce-9677-481c-ab41-2e58d617513e"
      },
      "outputs": [
        {
          "output_type": "stream",
          "name": "stdout",
          "text": [
            "dx error:  3.9987090692525564e-07\n",
            "dgamma error:  1.10149018514901e-12\n",
            "dbeta error:  3.2211064789941868e-12\n"
          ]
        }
      ],
      "source": [
        "N, C, H, W = 2, 3, 4, 5\n",
        "x = 5 * np.random.randn(N, C, H, W) + 12\n",
        "gamma = np.random.randn(C)\n",
        "beta = np.random.randn(C)\n",
        "dout = np.random.randn(N, C, H, W)\n",
        "\n",
        "bn_param = {'mode': 'train'}\n",
        "fx = lambda x: spatial_batchnorm_forward(x, gamma, beta, bn_param)[0]\n",
        "fg = lambda a: spatial_batchnorm_forward(x, gamma, beta, bn_param)[0]\n",
        "fb = lambda b: spatial_batchnorm_forward(x, gamma, beta, bn_param)[0]\n",
        "\n",
        "dx_num = eval_numerical_gradient_array(fx, x, dout)\n",
        "da_num = eval_numerical_gradient_array(fg, gamma, dout)\n",
        "db_num = eval_numerical_gradient_array(fb, beta, dout)\n",
        "\n",
        "_, cache = spatial_batchnorm_forward(x, gamma, beta, bn_param)\n",
        "dx, dgamma, dbeta = spatial_batchnorm_backward(dout, cache)\n",
        "print ('dx error: ', rel_error(dx_num, dx))\n",
        "print ('dgamma error: ', rel_error(da_num, dgamma))\n",
        "print ('dbeta error: ', rel_error(db_num, dbeta))"
      ]
    },
    {
      "cell_type": "code",
      "source": [],
      "metadata": {
        "id": "DGYb2DYoirMy"
      },
      "execution_count": null,
      "outputs": []
    }
  ],
  "metadata": {
    "colab": {
      "provenance": [],
      "include_colab_link": true
    },
    "language_info": {
      "name": "python"
    },
    "kernelspec": {
      "name": "python3",
      "display_name": "Python 3"
    }
  },
  "nbformat": 4,
  "nbformat_minor": 0
}